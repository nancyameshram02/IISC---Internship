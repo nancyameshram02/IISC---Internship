{
 "cells": [
  {
   "cell_type": "code",
   "execution_count": 32,
   "id": "62dbd57e",
   "metadata": {},
   "outputs": [],
   "source": [
    "import pandas as pd\n",
    "import numpy as np\n",
    "import os"
   ]
  },
  {
   "cell_type": "code",
   "execution_count": 33,
   "id": "44be665b",
   "metadata": {},
   "outputs": [],
   "source": [
    "y=pd.read_csv(r\"C:\\Users\\Nancy Meshram\\Downloads\\marathi_01_meta.csv\")"
   ]
  },
  {
   "cell_type": "code",
   "execution_count": 34,
   "id": "d03e5bc5",
   "metadata": {},
   "outputs": [
    {
     "data": {
      "text/html": [
       "<div>\n",
       "<style scoped>\n",
       "    .dataframe tbody tr th:only-of-type {\n",
       "        vertical-align: middle;\n",
       "    }\n",
       "\n",
       "    .dataframe tbody tr th {\n",
       "        vertical-align: top;\n",
       "    }\n",
       "\n",
       "    .dataframe thead th {\n",
       "        text-align: right;\n",
       "    }\n",
       "</style>\n",
       "<table border=\"1\" class=\"dataframe\">\n",
       "  <thead>\n",
       "    <tr style=\"text-align: right;\">\n",
       "      <th></th>\n",
       "      <th>target</th>\n",
       "    </tr>\n",
       "  </thead>\n",
       "  <tbody>\n",
       "    <tr>\n",
       "      <th>0</th>\n",
       "      <td>mr_m_politics_02959|2</td>\n",
       "    </tr>\n",
       "    <tr>\n",
       "      <th>1</th>\n",
       "      <td>mr_m_politics_02621|2</td>\n",
       "    </tr>\n",
       "    <tr>\n",
       "      <th>2</th>\n",
       "      <td>mr_m_politics_02404|1</td>\n",
       "    </tr>\n",
       "    <tr>\n",
       "      <th>3</th>\n",
       "      <td>mr_m_politics_03085|2</td>\n",
       "    </tr>\n",
       "    <tr>\n",
       "      <th>4</th>\n",
       "      <td>mr_m_politics_03049|2</td>\n",
       "    </tr>\n",
       "    <tr>\n",
       "      <th>...</th>\n",
       "      <td>...</td>\n",
       "    </tr>\n",
       "    <tr>\n",
       "      <th>7959</th>\n",
       "      <td>mr_m_education_01220|1</td>\n",
       "    </tr>\n",
       "    <tr>\n",
       "      <th>7960</th>\n",
       "      <td>mr_m_education_01592|2</td>\n",
       "    </tr>\n",
       "    <tr>\n",
       "      <th>7961</th>\n",
       "      <td>mr_m_education_01390|1</td>\n",
       "    </tr>\n",
       "    <tr>\n",
       "      <th>7962</th>\n",
       "      <td>mr_m_education_01246|2</td>\n",
       "    </tr>\n",
       "    <tr>\n",
       "      <th>7963</th>\n",
       "      <td>mr_m_education_01127|2</td>\n",
       "    </tr>\n",
       "  </tbody>\n",
       "</table>\n",
       "<p>7964 rows × 1 columns</p>\n",
       "</div>"
      ],
      "text/plain": [
       "                      target\n",
       "0      mr_m_politics_02959|2\n",
       "1      mr_m_politics_02621|2\n",
       "2      mr_m_politics_02404|1\n",
       "3      mr_m_politics_03085|2\n",
       "4      mr_m_politics_03049|2\n",
       "...                      ...\n",
       "7959  mr_m_education_01220|1\n",
       "7960  mr_m_education_01592|2\n",
       "7961  mr_m_education_01390|1\n",
       "7962  mr_m_education_01246|2\n",
       "7963  mr_m_education_01127|2\n",
       "\n",
       "[7964 rows x 1 columns]"
      ]
     },
     "execution_count": 34,
     "metadata": {},
     "output_type": "execute_result"
    }
   ],
   "source": [
    "y"
   ]
  },
  {
   "cell_type": "code",
   "execution_count": 35,
   "id": "14929931",
   "metadata": {},
   "outputs": [],
   "source": [
    "y['LastDigit'] = [x.strip()[-1] for x in y['target']]"
   ]
  },
  {
   "cell_type": "code",
   "execution_count": 36,
   "id": "4c58d3d3",
   "metadata": {},
   "outputs": [],
   "source": [
    "y['target'] = [x[:-2] for x in y['target']]"
   ]
  },
  {
   "cell_type": "code",
   "execution_count": 37,
   "id": "c2aa626f",
   "metadata": {},
   "outputs": [],
   "source": [
    "data=os.listdir(r\"C:\\Users\\Nancy Meshram\\Downloads\\required_duration_logits\\required_duration_logits\")"
   ]
  },
  {
   "cell_type": "code",
   "execution_count": 38,
   "id": "c08d18c8",
   "metadata": {},
   "outputs": [],
   "source": [
    "df=pd.DataFrame(data)"
   ]
  },
  {
   "cell_type": "code",
   "execution_count": 39,
   "id": "e1b428e6",
   "metadata": {},
   "outputs": [],
   "source": [
    "df.columns=['files']"
   ]
  },
  {
   "cell_type": "code",
   "execution_count": 40,
   "id": "cabf127a",
   "metadata": {},
   "outputs": [],
   "source": [
    "df['files'] = [x[:-4] for x in df['files']]"
   ]
  },
  {
   "cell_type": "code",
   "execution_count": 41,
   "id": "a6520630",
   "metadata": {},
   "outputs": [
    {
     "data": {
      "text/html": [
       "<div>\n",
       "<style scoped>\n",
       "    .dataframe tbody tr th:only-of-type {\n",
       "        vertical-align: middle;\n",
       "    }\n",
       "\n",
       "    .dataframe tbody tr th {\n",
       "        vertical-align: top;\n",
       "    }\n",
       "\n",
       "    .dataframe thead th {\n",
       "        text-align: right;\n",
       "    }\n",
       "</style>\n",
       "<table border=\"1\" class=\"dataframe\">\n",
       "  <thead>\n",
       "    <tr style=\"text-align: right;\">\n",
       "      <th></th>\n",
       "      <th>files</th>\n",
       "    </tr>\n",
       "  </thead>\n",
       "  <tbody>\n",
       "    <tr>\n",
       "      <th>0</th>\n",
       "      <td>mr_m_agri_00001</td>\n",
       "    </tr>\n",
       "    <tr>\n",
       "      <th>1</th>\n",
       "      <td>mr_m_agri_00002</td>\n",
       "    </tr>\n",
       "    <tr>\n",
       "      <th>2</th>\n",
       "      <td>mr_m_agri_00003</td>\n",
       "    </tr>\n",
       "    <tr>\n",
       "      <th>3</th>\n",
       "      <td>mr_m_agri_00004</td>\n",
       "    </tr>\n",
       "    <tr>\n",
       "      <th>4</th>\n",
       "      <td>mr_m_agri_00005</td>\n",
       "    </tr>\n",
       "  </tbody>\n",
       "</table>\n",
       "</div>"
      ],
      "text/plain": [
       "             files\n",
       "0  mr_m_agri_00001\n",
       "1  mr_m_agri_00002\n",
       "2  mr_m_agri_00003\n",
       "3  mr_m_agri_00004\n",
       "4  mr_m_agri_00005"
      ]
     },
     "execution_count": 41,
     "metadata": {},
     "output_type": "execute_result"
    }
   ],
   "source": [
    "df.head()"
   ]
  },
  {
   "cell_type": "code",
   "execution_count": 42,
   "id": "5195b3c3",
   "metadata": {},
   "outputs": [
    {
     "data": {
      "text/html": [
       "<div>\n",
       "<style scoped>\n",
       "    .dataframe tbody tr th:only-of-type {\n",
       "        vertical-align: middle;\n",
       "    }\n",
       "\n",
       "    .dataframe tbody tr th {\n",
       "        vertical-align: top;\n",
       "    }\n",
       "\n",
       "    .dataframe thead th {\n",
       "        text-align: right;\n",
       "    }\n",
       "</style>\n",
       "<table border=\"1\" class=\"dataframe\">\n",
       "  <thead>\n",
       "    <tr style=\"text-align: right;\">\n",
       "      <th></th>\n",
       "      <th>target</th>\n",
       "      <th>LastDigit</th>\n",
       "    </tr>\n",
       "  </thead>\n",
       "  <tbody>\n",
       "    <tr>\n",
       "      <th>0</th>\n",
       "      <td>mr_m_politics_02959</td>\n",
       "      <td>2</td>\n",
       "    </tr>\n",
       "    <tr>\n",
       "      <th>1</th>\n",
       "      <td>mr_m_politics_02621</td>\n",
       "      <td>2</td>\n",
       "    </tr>\n",
       "    <tr>\n",
       "      <th>2</th>\n",
       "      <td>mr_m_politics_02404</td>\n",
       "      <td>1</td>\n",
       "    </tr>\n",
       "    <tr>\n",
       "      <th>3</th>\n",
       "      <td>mr_m_politics_03085</td>\n",
       "      <td>2</td>\n",
       "    </tr>\n",
       "    <tr>\n",
       "      <th>4</th>\n",
       "      <td>mr_m_politics_03049</td>\n",
       "      <td>2</td>\n",
       "    </tr>\n",
       "  </tbody>\n",
       "</table>\n",
       "</div>"
      ],
      "text/plain": [
       "                target LastDigit\n",
       "0  mr_m_politics_02959         2\n",
       "1  mr_m_politics_02621         2\n",
       "2  mr_m_politics_02404         1\n",
       "3  mr_m_politics_03085         2\n",
       "4  mr_m_politics_03049         2"
      ]
     },
     "execution_count": 42,
     "metadata": {},
     "output_type": "execute_result"
    }
   ],
   "source": [
    "y.head()"
   ]
  },
  {
   "cell_type": "code",
   "execution_count": 43,
   "id": "9c3f50ae",
   "metadata": {},
   "outputs": [],
   "source": [
    "df3 = y[y['target'].isin(df['files'])]"
   ]
  },
  {
   "cell_type": "code",
   "execution_count": 44,
   "id": "8f54a9a9",
   "metadata": {},
   "outputs": [
    {
     "data": {
      "text/html": [
       "<div>\n",
       "<style scoped>\n",
       "    .dataframe tbody tr th:only-of-type {\n",
       "        vertical-align: middle;\n",
       "    }\n",
       "\n",
       "    .dataframe tbody tr th {\n",
       "        vertical-align: top;\n",
       "    }\n",
       "\n",
       "    .dataframe thead th {\n",
       "        text-align: right;\n",
       "    }\n",
       "</style>\n",
       "<table border=\"1\" class=\"dataframe\">\n",
       "  <thead>\n",
       "    <tr style=\"text-align: right;\">\n",
       "      <th></th>\n",
       "      <th>target</th>\n",
       "      <th>LastDigit</th>\n",
       "    </tr>\n",
       "  </thead>\n",
       "  <tbody>\n",
       "    <tr>\n",
       "      <th>0</th>\n",
       "      <td>mr_m_politics_02959</td>\n",
       "      <td>2</td>\n",
       "    </tr>\n",
       "    <tr>\n",
       "      <th>1</th>\n",
       "      <td>mr_m_politics_02621</td>\n",
       "      <td>2</td>\n",
       "    </tr>\n",
       "    <tr>\n",
       "      <th>2</th>\n",
       "      <td>mr_m_politics_02404</td>\n",
       "      <td>1</td>\n",
       "    </tr>\n",
       "    <tr>\n",
       "      <th>3</th>\n",
       "      <td>mr_m_politics_03085</td>\n",
       "      <td>2</td>\n",
       "    </tr>\n",
       "    <tr>\n",
       "      <th>4</th>\n",
       "      <td>mr_m_politics_03049</td>\n",
       "      <td>2</td>\n",
       "    </tr>\n",
       "  </tbody>\n",
       "</table>\n",
       "</div>"
      ],
      "text/plain": [
       "                target LastDigit\n",
       "0  mr_m_politics_02959         2\n",
       "1  mr_m_politics_02621         2\n",
       "2  mr_m_politics_02404         1\n",
       "3  mr_m_politics_03085         2\n",
       "4  mr_m_politics_03049         2"
      ]
     },
     "execution_count": 44,
     "metadata": {},
     "output_type": "execute_result"
    }
   ],
   "source": [
    "df3.head()"
   ]
  },
  {
   "cell_type": "code",
   "execution_count": 45,
   "id": "5088ec63",
   "metadata": {},
   "outputs": [
    {
     "data": {
      "text/plain": [
       "(7962, 2)"
      ]
     },
     "execution_count": 45,
     "metadata": {},
     "output_type": "execute_result"
    }
   ],
   "source": [
    "df3.shape"
   ]
  },
  {
   "cell_type": "code",
   "execution_count": 46,
   "id": "66327a2c",
   "metadata": {},
   "outputs": [],
   "source": [
    "df.to_csv('meta_2.csv')"
   ]
  },
  {
   "cell_type": "code",
   "execution_count": 47,
   "id": "84f2de3c",
   "metadata": {},
   "outputs": [],
   "source": [
    "from sklearn.model_selection import train_test_split\n",
    "X_train,X_val_test=train_test_split(data,train_size=0.8,random_state=42)\n",
    "X_val,X_test=train_test_split(X_val_test,test_size=0.5,random_state=42)"
   ]
  },
  {
   "cell_type": "code",
   "execution_count": 48,
   "id": "3199bb13",
   "metadata": {},
   "outputs": [
    {
     "name": "stdout",
     "output_type": "stream",
     "text": [
      "6369 796 797\n"
     ]
    }
   ],
   "source": [
    "print(len(X_train),len(X_val),len(X_test))"
   ]
  },
  {
   "cell_type": "code",
   "execution_count": 49,
   "id": "9a3177f9",
   "metadata": {},
   "outputs": [
    {
     "data": {
      "text/plain": [
       "7962"
      ]
     },
     "execution_count": 49,
     "metadata": {},
     "output_type": "execute_result"
    }
   ],
   "source": [
    "len(data)"
   ]
  },
  {
   "cell_type": "code",
   "execution_count": 50,
   "id": "1a0a6ab5",
   "metadata": {},
   "outputs": [],
   "source": [
    "import shutil"
   ]
  },
  {
   "cell_type": "code",
   "execution_count": null,
   "id": "489d6848",
   "metadata": {},
   "outputs": [],
   "source": [
    "################ Train Data #################\n",
    "\n",
    "sour=r\"C:\\Users\\Nancy Meshram\\Downloads\\required_duration_logits\\required_duration_logits\"\n",
    "dest=r\"C:\\Users\\Nancy Meshram\\Downloads\\train\\train\"\n",
    "for f in data:\n",
    "    if f in X_train:\n",
    "        shutil.copy(os.path.join(sour, f), dest)"
   ]
  },
  {
   "cell_type": "code",
   "execution_count": null,
   "id": "c7d05fc8",
   "metadata": {},
   "outputs": [],
   "source": [
    "################ Validation Data #####################\n",
    "\n",
    "sour=r\"C:\\Users\\Nancy Meshram\\Downloads\\required_duration_logits\\required_duration_logits\"\n",
    "dest=r\"C:\\Users\\Nancy Meshram\\Downloads\\val\\val\"\n",
    "for f in data:\n",
    "    if f in X_val:\n",
    "        shutil.copy(os.path.join(sour, f), dest)"
   ]
  },
  {
   "cell_type": "code",
   "execution_count": null,
   "id": "1342f4c0",
   "metadata": {},
   "outputs": [],
   "source": [
    "################## Test Data #######################\n",
    "\n",
    "sour=r\"C:\\Users\\Nancy Meshram\\Downloads\\required_duration_logits\\required_duration_logits\"\n",
    "dest=r\"C:\\Users\\Nancy Meshram\\Downloads\\test\\test\"\n",
    "for f in data:\n",
    "    if f in X_test:\n",
    "        shutil.copy(os.path.join(sour, f), dest)"
   ]
  },
  {
   "cell_type": "code",
   "execution_count": null,
   "id": "19fa1cfb",
   "metadata": {},
   "outputs": [],
   "source": []
  },
  {
   "cell_type": "code",
   "execution_count": null,
   "id": "ccbba7eb",
   "metadata": {},
   "outputs": [],
   "source": []
  },
  {
   "cell_type": "code",
   "execution_count": null,
   "id": "bba6292b",
   "metadata": {},
   "outputs": [],
   "source": []
  }
 ],
 "metadata": {
  "kernelspec": {
   "display_name": "Python 3 (ipykernel)",
   "language": "python",
   "name": "python3"
  },
  "language_info": {
   "codemirror_mode": {
    "name": "ipython",
    "version": 3
   },
   "file_extension": ".py",
   "mimetype": "text/x-python",
   "name": "python",
   "nbconvert_exporter": "python",
   "pygments_lexer": "ipython3",
   "version": "3.9.7"
  }
 },
 "nbformat": 4,
 "nbformat_minor": 5
}
