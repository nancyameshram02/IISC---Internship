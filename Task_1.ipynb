{
  "nbformat": 4,
  "nbformat_minor": 0,
  "metadata": {
    "colab": {
      "name": "Task_1.ipynb",
      "provenance": []
    },
    "kernelspec": {
      "name": "python3",
      "display_name": "Python 3"
    },
    "language_info": {
      "name": "python"
    }
  },
  "cells": [
    {
      "cell_type": "code",
      "source": [
        "import numpy as np\n",
        "import pandas as pd\n",
        "from keras.models import Sequential\n",
        "from keras.layers import Dense\n",
        "from keras.layers import Flatten\n",
        "from keras.layers import Dropout\n",
        "from keras.layers.convolutional import Conv1D\n",
        "from keras.layers.convolutional import MaxPooling1D\n",
        "from sklearn.model_selection import train_test_split\n",
        "from sklearn.metrics import classification_report\n",
        "from sklearn.metrics import confusion_matrix\n",
        "from sklearn.metrics import f1_score,precision_score,recall_score,accuracy_score\n",
        "import warnings\n",
        "warnings.filterwarnings('ignore', '.*do not.*', )"
      ],
      "metadata": {
        "id": "jLSpWm-mcI7i"
      },
      "execution_count": 105,
      "outputs": []
    },
    {
      "cell_type": "code",
      "source": [
        "def data():\n",
        "  X = np.random.rand(1000, 400, 80)\n",
        "  Y=np.random.randint(0, 2,1000)\n",
        "  Y=np.reshape(Y, (1000, 1))\n",
        "  X_train, X_val_and_test, Y_train, Y_val_and_test = train_test_split(X,Y, test_size=0.3)\n",
        "  X_val, X_test, Y_val, Y_test = train_test_split(X_val_and_test, Y_val_and_test, test_size=0.5)\n",
        "  return(X_train, X_test, Y_train, Y_test)"
      ],
      "metadata": {
        "id": "aaJjSAa4ctYK"
      },
      "execution_count": 106,
      "outputs": []
    },
    {
      "cell_type": "code",
      "source": [
        "def model(X_train, X_test, Y_train, Y_test):\n",
        "  n_timesteps, n_features, n_outputs = X_train.shape[1], X_train.shape[2], Y_train.shape[1]\n",
        "  model=Sequential()\n",
        "  model.add(Conv1D(filters=32, kernel_size=3, activation='relu',input_shape=(400,80))) ##### LAYER 1 #####\n",
        "  model.add(Conv1D(filters=64, kernel_size=3, activation='relu')) ##### LAYER 2 #####\n",
        "  model.add(Conv1D(filters=128, kernel_size=3, activation='relu')) ##### LAYER 3 #####\n",
        "  model.add(Dropout(0.5))\n",
        "  model.add(MaxPooling1D(pool_size=3))\n",
        "  model.add(Flatten())\n",
        "  model.add(Dense(128, activation='relu')) ##### FULLY CONNECTED LAYER #####\n",
        "  model.add(Dense(n_outputs, activation='sigmoid')) ##### OUTPUT LAYER #####\n",
        "  model.compile(loss='binary_crossentropy', optimizer='adam', metrics=['accuracy'])\n",
        "  model.fit(X_train, Y_train, epochs=50, batch_size=1000, verbose=True)\n",
        "  Train_accuracy = model.evaluate(X_train, Y_train, batch_size=1000, verbose=True) ### Training Accuracy ###\n",
        "  Test_accuracy = model.evaluate(X_test, Y_test, batch_size=1000, verbose=True) ### Test Accuracy ###\n",
        "  y_pred=model.predict(X_test)\n",
        "  Y_test=Y_test.astype('int64')\n",
        "  y_pred=y_pred.astype('int64')\n",
        "  cr=classification_report(Y_test, y_pred)\n",
        "  cm = confusion_matrix(Y_test, y_pred) \n",
        "  return(Train_accuracy,Test_accuracy,cr,cm)"
      ],
      "metadata": {
        "id": "GUb9QiQmeMzL"
      },
      "execution_count": 107,
      "outputs": []
    },
    {
      "cell_type": "code",
      "source": [
        "X_train, X_test, Y_train, Y_test=data()\n",
        "score = model(X_train, X_test, Y_train, Y_test)"
      ],
      "metadata": {
        "colab": {
          "base_uri": "https://localhost:8080/"
        },
        "id": "6lKZ83xag3f_",
        "outputId": "595b5d27-0a97-47e2-8e91-64b721d5968d"
      },
      "execution_count": 108,
      "outputs": [
        {
          "output_type": "stream",
          "name": "stdout",
          "text": [
            "Epoch 1/50\n",
            "1/1 [==============================] - 3s 3s/step - loss: 0.7577 - accuracy: 0.5029\n",
            "Epoch 2/50\n",
            "1/1 [==============================] - 2s 2s/step - loss: 5.1502 - accuracy: 0.4971\n",
            "Epoch 3/50\n",
            "1/1 [==============================] - 2s 2s/step - loss: 1.5741 - accuracy: 0.4971\n",
            "Epoch 4/50\n",
            "1/1 [==============================] - 2s 2s/step - loss: 0.6928 - accuracy: 0.4971\n",
            "Epoch 5/50\n",
            "1/1 [==============================] - 2s 2s/step - loss: 0.6931 - accuracy: 0.4971\n",
            "Epoch 6/50\n",
            "1/1 [==============================] - 2s 2s/step - loss: 0.6931 - accuracy: 0.5114\n",
            "Epoch 7/50\n",
            "1/1 [==============================] - 2s 2s/step - loss: 0.6931 - accuracy: 0.5071\n",
            "Epoch 8/50\n",
            "1/1 [==============================] - 2s 2s/step - loss: 0.6931 - accuracy: 0.5386\n",
            "Epoch 9/50\n",
            "1/1 [==============================] - 2s 2s/step - loss: 0.6930 - accuracy: 0.5571\n",
            "Epoch 10/50\n",
            "1/1 [==============================] - 2s 2s/step - loss: 0.6930 - accuracy: 0.6157\n",
            "Epoch 11/50\n",
            "1/1 [==============================] - 2s 2s/step - loss: 0.6930 - accuracy: 0.5971\n",
            "Epoch 12/50\n",
            "1/1 [==============================] - 2s 2s/step - loss: 0.6929 - accuracy: 0.6329\n",
            "Epoch 13/50\n",
            "1/1 [==============================] - 2s 2s/step - loss: 0.6929 - accuracy: 0.5900\n",
            "Epoch 14/50\n",
            "1/1 [==============================] - 2s 2s/step - loss: 0.6929 - accuracy: 0.6229\n",
            "Epoch 15/50\n",
            "1/1 [==============================] - 2s 2s/step - loss: 0.6928 - accuracy: 0.6500\n",
            "Epoch 16/50\n",
            "1/1 [==============================] - 2s 2s/step - loss: 0.6928 - accuracy: 0.6571\n",
            "Epoch 17/50\n",
            "1/1 [==============================] - 2s 2s/step - loss: 0.6927 - accuracy: 0.6586\n",
            "Epoch 18/50\n",
            "1/1 [==============================] - 2s 2s/step - loss: 0.6926 - accuracy: 0.6729\n",
            "Epoch 19/50\n",
            "1/1 [==============================] - 2s 2s/step - loss: 0.6926 - accuracy: 0.6471\n",
            "Epoch 20/50\n",
            "1/1 [==============================] - 2s 2s/step - loss: 0.6925 - accuracy: 0.6400\n",
            "Epoch 21/50\n",
            "1/1 [==============================] - 2s 2s/step - loss: 0.6923 - accuracy: 0.6543\n",
            "Epoch 22/50\n",
            "1/1 [==============================] - 2s 2s/step - loss: 0.6923 - accuracy: 0.6757\n",
            "Epoch 23/50\n",
            "1/1 [==============================] - 2s 2s/step - loss: 0.6922 - accuracy: 0.6571\n",
            "Epoch 24/50\n",
            "1/1 [==============================] - 2s 2s/step - loss: 0.6921 - accuracy: 0.6357\n",
            "Epoch 25/50\n",
            "1/1 [==============================] - 2s 2s/step - loss: 0.6918 - accuracy: 0.6214\n",
            "Epoch 26/50\n",
            "1/1 [==============================] - 2s 2s/step - loss: 0.6918 - accuracy: 0.6457\n",
            "Epoch 27/50\n",
            "1/1 [==============================] - 2s 2s/step - loss: 0.6918 - accuracy: 0.6143\n",
            "Epoch 28/50\n",
            "1/1 [==============================] - 2s 2s/step - loss: 0.6915 - accuracy: 0.6043\n",
            "Epoch 29/50\n",
            "1/1 [==============================] - 2s 2s/step - loss: 0.6914 - accuracy: 0.5843\n",
            "Epoch 30/50\n",
            "1/1 [==============================] - 2s 2s/step - loss: 0.6910 - accuracy: 0.5943\n",
            "Epoch 31/50\n",
            "1/1 [==============================] - 2s 2s/step - loss: 0.6911 - accuracy: 0.5671\n",
            "Epoch 32/50\n",
            "1/1 [==============================] - 2s 2s/step - loss: 0.6904 - accuracy: 0.6057\n",
            "Epoch 33/50\n",
            "1/1 [==============================] - 2s 2s/step - loss: 0.6902 - accuracy: 0.5643\n",
            "Epoch 34/50\n",
            "1/1 [==============================] - 2s 2s/step - loss: 0.6903 - accuracy: 0.5329\n",
            "Epoch 35/50\n",
            "1/1 [==============================] - 2s 2s/step - loss: 0.6899 - accuracy: 0.5457\n",
            "Epoch 36/50\n",
            "1/1 [==============================] - 2s 2s/step - loss: 0.6894 - accuracy: 0.6129\n",
            "Epoch 37/50\n",
            "1/1 [==============================] - 2s 2s/step - loss: 0.6891 - accuracy: 0.5471\n",
            "Epoch 38/50\n",
            "1/1 [==============================] - 2s 2s/step - loss: 0.6888 - accuracy: 0.5286\n",
            "Epoch 39/50\n",
            "1/1 [==============================] - 2s 2s/step - loss: 0.6881 - accuracy: 0.5400\n",
            "Epoch 40/50\n",
            "1/1 [==============================] - 2s 2s/step - loss: 0.6878 - accuracy: 0.5743\n",
            "Epoch 41/50\n",
            "1/1 [==============================] - 2s 2s/step - loss: 0.6871 - accuracy: 0.5743\n",
            "Epoch 42/50\n",
            "1/1 [==============================] - 2s 2s/step - loss: 0.6869 - accuracy: 0.5229\n",
            "Epoch 43/50\n",
            "1/1 [==============================] - 2s 2s/step - loss: 0.6866 - accuracy: 0.5257\n",
            "Epoch 44/50\n",
            "1/1 [==============================] - 2s 2s/step - loss: 0.6855 - accuracy: 0.5871\n",
            "Epoch 45/50\n",
            "1/1 [==============================] - 2s 2s/step - loss: 0.6849 - accuracy: 0.5600\n",
            "Epoch 46/50\n",
            "1/1 [==============================] - 2s 2s/step - loss: 0.6846 - accuracy: 0.5100\n",
            "Epoch 47/50\n",
            "1/1 [==============================] - 2s 2s/step - loss: 0.6835 - accuracy: 0.5329\n",
            "Epoch 48/50\n",
            "1/1 [==============================] - 2s 2s/step - loss: 0.6828 - accuracy: 0.6086\n",
            "Epoch 49/50\n",
            "1/1 [==============================] - 2s 2s/step - loss: 0.6822 - accuracy: 0.5286\n",
            "Epoch 50/50\n",
            "1/1 [==============================] - 2s 2s/step - loss: 0.6808 - accuracy: 0.5343\n",
            "1/1 [==============================] - 1s 695ms/step - loss: 0.6834 - accuracy: 0.5186\n",
            "1/1 [==============================] - 0s 136ms/step - loss: 0.6938 - accuracy: 0.5000\n"
          ]
        },
        {
          "output_type": "stream",
          "name": "stderr",
          "text": [
            "/usr/local/lib/python3.7/dist-packages/sklearn/metrics/_classification.py:1318: UndefinedMetricWarning: Precision and F-score are ill-defined and being set to 0.0 in labels with no predicted samples. Use `zero_division` parameter to control this behavior.\n",
            "  _warn_prf(average, modifier, msg_start, len(result))\n",
            "/usr/local/lib/python3.7/dist-packages/sklearn/metrics/_classification.py:1318: UndefinedMetricWarning: Precision and F-score are ill-defined and being set to 0.0 in labels with no predicted samples. Use `zero_division` parameter to control this behavior.\n",
            "  _warn_prf(average, modifier, msg_start, len(result))\n",
            "/usr/local/lib/python3.7/dist-packages/sklearn/metrics/_classification.py:1318: UndefinedMetricWarning: Precision and F-score are ill-defined and being set to 0.0 in labels with no predicted samples. Use `zero_division` parameter to control this behavior.\n",
            "  _warn_prf(average, modifier, msg_start, len(result))\n"
          ]
        }
      ]
    },
    {
      "cell_type": "code",
      "source": [
        ""
      ],
      "metadata": {
        "id": "ij9uLnqwjHL9"
      },
      "execution_count": null,
      "outputs": []
    }
  ]
}